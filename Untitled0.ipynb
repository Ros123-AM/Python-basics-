{
  "nbformat": 4,
  "nbformat_minor": 0,
  "metadata": {
    "colab": {
      "provenance": []
    },
    "kernelspec": {
      "name": "python3",
      "display_name": "Python 3"
    },
    "language_info": {
      "name": "python"
    }
  },
  "cells": [
    {
      "cell_type": "markdown",
      "source": [
        "# Python Basics\n",
        "\n"
      ],
      "metadata": {
        "id": "UAItHi3KD0Yk"
      }
    },
    {
      "cell_type": "markdown",
      "source": [
        "1. What is Python, and why is it popular?\n",
        "\n",
        "Ans- Python is a programming language for creating instruction for a computer to follow. its like a set of special rules and symbol that you use to give instructions to a computer, Known for its clean, readable syntax. and Created by Guido van Rossum and released in 1991.\n",
        "\n",
        " it is popular because\n",
        "\n",
        "- Easy to Learn and Use: Simple, human-readable syntax that is beginner-friendly.\n",
        "-Versatile: Used for web development, data science, automation, machine learning, software development, etc.\n",
        "-Large Ecosystem: Extensive libraries and frameworks (e.g., pandas, TensorFlow, Django).\n",
        "-Strong Community: Active community providing resources, tutorials, and support.\n",
        "-Cross-platform: Runs on various operating systems like Windows, macOS, and Linux.\n",
        "-Integration: Easily integrates with other languages (C, C++, Java).\n",
        "-Widely Adopted: Used by major companies like Google, Facebook, and NASA.\n"
      ],
      "metadata": {
        "id": "QuhXzVo_Ea81"
      }
    },
    {
      "cell_type": "markdown",
      "source": [
        "2. What is an interpreter in Python?"
      ],
      "metadata": {
        "id": "r2cFrX4GL3VM"
      }
    },
    {
      "cell_type": "markdown",
      "source": [
        "Ans- An interpreter in Python is a tool that executes Python code one line at a time, converting it into machine-readable instructions as it runs. Unlike a compiler, which first translates the entire source code into machine code before execution, the interpreter directly processes and runs the code without needing to compile it beforehand."
      ],
      "metadata": {
        "id": "TljVhNgCNRww"
      }
    },
    {
      "cell_type": "markdown",
      "source": [
        "3. What are pre-defined keywords in Python?\n"
      ],
      "metadata": {
        "id": "eNgyFi9BEzhj"
      }
    },
    {
      "cell_type": "markdown",
      "source": [
        "Ans-  Pre-defined in Python are special words that have a specific meaning and function in the Python language. These words are reserved, meaning you cannot use them as variable names or identifiers.\n",
        "\n",
        "Examples-\n",
        "        - if, else, elif: Used for conditional statements,  \n",
        "        -  for, while: Used for loops                                          \n",
        "        -  def: Used to define a function.                                       \n",
        "        - class: Used to define a class."
      ],
      "metadata": {
        "id": "CVaK9AbNFOds"
      }
    },
    {
      "cell_type": "markdown",
      "source": [
        "4. Can keywords be used as variable names ?"
      ],
      "metadata": {
        "id": "epQtSLV7H1C3"
      }
    },
    {
      "cell_type": "markdown",
      "source": [
        "Ans- No, keywords cannot be used as variable names in Python.\n",
        "\n",
        "Keywords have a special meaning in the language and are reserved for specific functions. If you try to use a keyword as a variable name, Python will raise a syntax error."
      ],
      "metadata": {
        "id": "p3y68YqpBwzl"
      }
    },
    {
      "cell_type": "markdown",
      "source": [
        "5. What is mutability in Python?"
      ],
      "metadata": {
        "id": "5gv1l3M9CA7p"
      }
    },
    {
      "cell_type": "markdown",
      "source": [
        "Ans-  In Python, mutability refers to an object's ability to be changed or modified after it's created, with mutable objects allowing in-place modifications.                                                                  \n",
        " For example, lists and dictionaries are mutable, so you can change their contents."
      ],
      "metadata": {
        "id": "1COv_KgtCIa6"
      }
    },
    {
      "cell_type": "markdown",
      "source": [
        "6.  Why are lists mutable, but tuples are immutable?"
      ],
      "metadata": {
        "id": "JZVqB1yxCsTv"
      }
    },
    {
      "cell_type": "markdown",
      "source": [
        "Ans- Lists are meant to be changed. You can add, remove, or modify items in a list after it's created. This makes lists flexible and useful when you need to change the data.\n",
        "\n",
        "Tuples, on the other hand, are meant to stay the same once they're created. This makes them faster and safer to use when you don’t want the data to be changed accidentally.                                                           \n",
        "That is why lists are mutable and tuples are immutable ."
      ],
      "metadata": {
        "id": "qpmy8PeRCyyU"
      }
    },
    {
      "cell_type": "markdown",
      "source": [
        "7. What is the difference between “==” and “is” operators in Python?\n"
      ],
      "metadata": {
        "id": "Aw_czGviDXwF"
      }
    },
    {
      "cell_type": "markdown",
      "source": [
        "Ans- \"==\" checks if two objects have the same value.                              \n",
        "example-  3== 3 is True because both values are the same.                           \n",
        " but in case of \"is\" checks if two objects are the same object in memory or they are referring to the same place in memory.                               \n",
        "Example-  a = [X, Y, Z] and b = a will return True for a is b because both a and b point to the same list"
      ],
      "metadata": {
        "id": "Kkl3sthfDgCD"
      }
    },
    {
      "cell_type": "markdown",
      "source": [
        "8. What are logical operators in Python ?"
      ],
      "metadata": {
        "id": "7B3FhBPNFMeH"
      }
    },
    {
      "cell_type": "markdown",
      "source": [
        "Ans- In Python, logical operators are used to combine conditional statements and return a boolean result (True or False).                                      \n",
        "     The three main logical operators are: \"and\" , \"or\", \"not\" ."
      ],
      "metadata": {
        "id": "7S5w_swBFS4A"
      }
    },
    {
      "cell_type": "markdown",
      "source": [
        "9.  What is type casting in Python?"
      ],
      "metadata": {
        "id": "-2Dx1GPdGAuG"
      }
    },
    {
      "cell_type": "markdown",
      "source": [
        "Ans- Type Casting is the method to convert the Python variable datatype into a certain data type in order to perform the required operation by users.         \n",
        "There are two types- 1- Explicit  ,  2- Implicit"
      ],
      "metadata": {
        "id": "e0FzkHdzGMCW"
      }
    },
    {
      "cell_type": "markdown",
      "source": [
        "10. What is the difference between implicit and explicit type casting?\n"
      ],
      "metadata": {
        "id": "yiH7uzu0HrhF"
      }
    },
    {
      "cell_type": "markdown",
      "source": [
        "   Implicit - Python automatically converts a smaller data type to a larger one when needed.                                                  \n",
        "- No need for the user to do anything, automaticaly it will get.                      \n",
        "-ex-  x = 5 (int) and y = 3.2 (float), result = x + y (x is converted to float).                                                                            \n",
        "Explicit - The programmer manually converts a data type to another using built-in functions like int(), float(), str(), etc.         \n",
        "- User has to specify the conversion, need to do manually.              \n",
        "- ex-  = x=\"10\", y = int(x) (string to integer)                    \n"
      ],
      "metadata": {
        "id": "EokwkA9VH4QD"
      }
    },
    {
      "cell_type": "markdown",
      "source": [
        "11.  What is the purpose of conditional statements in Python?"
      ],
      "metadata": {
        "id": "1GgAXpbIKTan"
      }
    },
    {
      "cell_type": "markdown",
      "source": [
        "Ans- The purpose of conditional statements in Python is to allow your program to make decisions based on certain conditions. They enable the program to execute different code depending on whether a condition is true or false.      \n",
        "it is 3 types- if, if-else, if-elif-else."
      ],
      "metadata": {
        "id": "3yxqnyASKZRq"
      }
    },
    {
      "cell_type": "markdown",
      "source": [
        "12.  How does the elif statement work ?"
      ],
      "metadata": {
        "id": "IlE6yUUaLRoQ"
      }
    },
    {
      "cell_type": "markdown",
      "source": [
        "Ans- 1- The program first checks the if condition.                             \n",
        "     2- If the if condition is false, it moves to the elif statement and checks the condition there.                                                      \n",
        "     3- If the elif condition is true, it executes the block of code  under elif.                                                                    \n",
        "     4- If none of the if or elif conditions are true, the program will run the code under the else statement."
      ],
      "metadata": {
        "id": "37UABbtELZRT"
      }
    },
    {
      "cell_type": "markdown",
      "source": [
        "13. What is the difference between for and while loops?"
      ],
      "metadata": {
        "id": "IdW674L6McLN"
      }
    },
    {
      "cell_type": "markdown",
      "source": [
        "Ans- For loop - Used when you know in advance how many times you want to loop through a sequence.                                                            \n",
        "- Iterates over a sequence or a range and executes the block of code for each item.                                                                        \n",
        "- for loop is generally used when you know the number of iterations beforehand.  \n",
        "\n",
        "While loop -   Used when you don’t know how many times the loop will run, but you want the loop to keep running as long as a specific condition is true.      \n",
        "- Continues to loop as long as the condition is true.\n",
        "- while loop is used when the number of iterations depends on a condition that may change during execution."
      ],
      "metadata": {
        "id": "ks_v1oNkMrAB"
      }
    },
    {
      "cell_type": "markdown",
      "source": [
        "14. Describe a scenario where a while loop is more suitable than a for loop ?"
      ],
      "metadata": {
        "id": "iQ3l7CD6Non-"
      }
    },
    {
      "cell_type": "markdown",
      "source": [
        "Ans- Imagine you're building a racing game where the game keeps running until the player's car crosses the finish line. You don’t know exactly how many seconds it will take for the player to reach the finish line because it depends on the player's speed and actions.\n",
        "\n",
        "In this case, a while loop is more suitable than a for loop because you don't know beforehand how many iterations (seconds or checks) will be needed until the car finishes the race"
      ],
      "metadata": {
        "id": "BSb4TbZvNx4h"
      }
    },
    {
      "cell_type": "markdown",
      "source": [
        "# PRATICAL QUESTION"
      ],
      "metadata": {
        "id": "XMmpUbajOpVC"
      }
    },
    {
      "cell_type": "markdown",
      "source": [
        "1. Write a Python program to print \"Hello, World!"
      ],
      "metadata": {
        "id": "8GJ1RzSOPZgp"
      }
    },
    {
      "cell_type": "code",
      "source": [
        "print(\"Hello, World!\")"
      ],
      "metadata": {
        "colab": {
          "base_uri": "https://localhost:8080/"
        },
        "id": "nyO22NH1Pftl",
        "outputId": "e5a01388-431d-47bd-8037-282f15cbbcf9"
      },
      "execution_count": 4,
      "outputs": [
        {
          "output_type": "stream",
          "name": "stdout",
          "text": [
            "Hello, World!\n"
          ]
        }
      ]
    },
    {
      "cell_type": "markdown",
      "source": [
        "2. Write a Python program that displays your name and age."
      ],
      "metadata": {
        "id": "3PWLiWORQiUR"
      }
    },
    {
      "cell_type": "code",
      "source": [
        "# Define name and age\n",
        "name=\"Roshan Kumar patra\"\n",
        "age=\"22\"\n",
        "#for display\n",
        "print(\"Name:\", name)\n",
        "print(\"Age:\", age)"
      ],
      "metadata": {
        "colab": {
          "base_uri": "https://localhost:8080/"
        },
        "id": "_kEEjAmTQmsC",
        "outputId": "fe520efa-b357-4835-9492-659a1c9419bb"
      },
      "execution_count": 6,
      "outputs": [
        {
          "output_type": "stream",
          "name": "stdout",
          "text": [
            "Name: Roshan Kumar patra\n",
            "Age: 22\n"
          ]
        }
      ]
    },
    {
      "cell_type": "markdown",
      "source": [
        "3. Write code to print all the pre-defined keywords in Python using the keyword library.\n"
      ],
      "metadata": {
        "id": "JeD2YT2DRRIy"
      }
    },
    {
      "cell_type": "code",
      "source": [
        "# Print all the pre-defined keywords in Python\n",
        "import keyword\n",
        "print(\"python keywords:\", keyword.kwlist)"
      ],
      "metadata": {
        "colab": {
          "base_uri": "https://localhost:8080/"
        },
        "id": "y5rD4hDeRWSD",
        "outputId": "784d0b75-a7c6-4c82-d958-5bcfb4c76191"
      },
      "execution_count": 9,
      "outputs": [
        {
          "output_type": "stream",
          "name": "stdout",
          "text": [
            "python keywords: ['False', 'None', 'True', 'and', 'as', 'assert', 'async', 'await', 'break', 'class', 'continue', 'def', 'del', 'elif', 'else', 'except', 'finally', 'for', 'from', 'global', 'if', 'import', 'in', 'is', 'lambda', 'nonlocal', 'not', 'or', 'pass', 'raise', 'return', 'try', 'while', 'with', 'yield']\n"
          ]
        }
      ]
    },
    {
      "cell_type": "markdown",
      "source": [
        "4.Write a program that checks if a given word is a Python keyword."
      ],
      "metadata": {
        "id": "xpO61AgrSFcS"
      }
    },
    {
      "cell_type": "code",
      "source": [
        "import keyword\n",
        "\n",
        "# Get user input\n",
        "word = input(\"Enter a word: \")\n",
        "\n",
        "# Check if the word is a Python keyword\n",
        "if keyword.iskeyword(word):\n",
        "    print(f\"'{word}' is a Python keyword.\")\n",
        "else:\n",
        "    print(f\"'{word}' is not a Python keyword.\")\n"
      ],
      "metadata": {
        "colab": {
          "base_uri": "https://localhost:8080/"
        },
        "id": "ajvvccnpSL2e",
        "outputId": "184506b0-ca09-4db7-f267-77dc274bd7a6"
      },
      "execution_count": 1,
      "outputs": [
        {
          "output_type": "stream",
          "name": "stdout",
          "text": [
            "Enter a word: orange\n",
            "'orange' is not a Python keyword.\n"
          ]
        }
      ]
    },
    {
      "cell_type": "code",
      "source": [
        "import keyword\n",
        "\n",
        "# Get user input\n",
        "word = input(\"Enter a word: \")\n",
        "\n",
        "# Check if the word is a Python keyword\n",
        "if keyword.iskeyword(word):\n",
        "    print(f\"'{word}' is a Python keyword.\")\n",
        "else:\n",
        "    print(f\"'{word}' is not a Python keyword.\")"
      ],
      "metadata": {
        "colab": {
          "base_uri": "https://localhost:8080/"
        },
        "id": "jv-2PSPCTzPa",
        "outputId": "6cc6f4ec-710b-4b17-cf11-d5aaf875a584"
      },
      "execution_count": 2,
      "outputs": [
        {
          "output_type": "stream",
          "name": "stdout",
          "text": [
            "Enter a word: else\n",
            "'else' is a Python keyword.\n"
          ]
        }
      ]
    },
    {
      "cell_type": "markdown",
      "source": [
        "when i put \"orange\" it denied but when i put a keyword \"else\" it shows that it is a python kyeword"
      ],
      "metadata": {
        "id": "F_juDBngT4kg"
      }
    },
    {
      "cell_type": "markdown",
      "source": [
        "5.  Create a list and tuple in Python, and demonstrate how attempting to change an element works differently\n",
        "for each?"
      ],
      "metadata": {
        "id": "LhoTGvRkUKsX"
      }
    },
    {
      "cell_type": "code",
      "source": [
        "# Create a list and a tuple\n",
        "my_list = [1, 2, 3, 4,5]\n",
        "my_tuple = (1, 2, 3, 4,5)\n",
        "\n",
        "# Try to change an element in the list\n",
        "print(\"Original List:\", my_list)\n",
        "my_list[3] = 10  # Modifying the third element of the list\n",
        "print(\"Modified List:\", my_list)\n",
        "\n",
        "# Try to change an element in the tuple (will cause an error)\n",
        "print(\"\\nOriginal Tuple:\", my_tuple)\n",
        "try:\n",
        "    my_tuple[3] = 10  # Attempting to modify the third element of the tuple\n",
        "except TypeError as e:\n",
        "    print(f\"Error: {e}\")  # Catch and print the error\n"
      ],
      "metadata": {
        "colab": {
          "base_uri": "https://localhost:8080/"
        },
        "id": "4TJ6pVykUPCp",
        "outputId": "c5eb9f36-e0e8-4600-a1b8-4066b25b9d52"
      },
      "execution_count": 9,
      "outputs": [
        {
          "output_type": "stream",
          "name": "stdout",
          "text": [
            "Original List: [1, 2, 3, 4, 5]\n",
            "Modified List: [1, 2, 3, 10, 5]\n",
            "\n",
            "Original Tuple: (1, 2, 3, 4, 5)\n",
            "Error: 'tuple' object does not support item assignment\n"
          ]
        }
      ]
    },
    {
      "cell_type": "markdown",
      "source": [
        "in list is mutable that is why there is changing in the element happening but in case of tuple it's an immutable that is why while changing in the element it showing an error"
      ],
      "metadata": {
        "id": "jEoR2Se4stAg"
      }
    },
    {
      "cell_type": "markdown",
      "source": [
        "6. Write a function to demonstrate the behavior of mutable and immutable arguments?"
      ],
      "metadata": {
        "id": "219lmY6YtKgx"
      }
    },
    {
      "cell_type": "code",
      "source": [
        "# Function to demonstrate mutable and immutable argument behavior\n",
        "def demonstrate_mutability(immutable_arg, mutable_arg):\n",
        "    print(\"Before modification:\")\n",
        "    print(f\"Immutable argument: {immutable_arg}\")\n",
        "    print(f\"Mutable argument: {mutable_arg}\")\n",
        "\n",
        "    # Modify the immutable argument (this won't change the original outside the function)\n",
        "    immutable_arg = 100\n",
        "\n",
        "    # Modify the mutable argument (this will change the original outside the function)\n",
        "    mutable_arg.append(4)\n",
        "\n",
        "    print(\"\\nAfter modification:\")\n",
        "    print(f\"Immutable argument: {immutable_arg}\")\n",
        "    print(f\"Mutable argument: {mutable_arg}\")\n",
        "\n",
        "# Example usage:\n",
        "immutable = 10  # Immutable argument (int)\n",
        "mutable = [1, 2, 3]  # Mutable argument (list)\n",
        "\n",
        "# Call the function\n",
        "demonstrate_mutability(immutable, mutable)\n",
        "\n",
        "# Check the values after function call\n",
        "print(\"\\nAfter the function call:\")\n",
        "print(f\"Original immutable argument: {immutable}\")\n",
        "print(f\"Original mutable argument: {mutable}\")\n"
      ],
      "metadata": {
        "colab": {
          "base_uri": "https://localhost:8080/"
        },
        "id": "1A8kwaietPwi",
        "outputId": "5cd62efd-2cad-4a6f-f424-c9a9095fe7ff"
      },
      "execution_count": 10,
      "outputs": [
        {
          "output_type": "stream",
          "name": "stdout",
          "text": [
            "Before modification:\n",
            "Immutable argument: 10\n",
            "Mutable argument: [1, 2, 3]\n",
            "\n",
            "After modification:\n",
            "Immutable argument: 100\n",
            "Mutable argument: [1, 2, 3, 4]\n",
            "\n",
            "After the function call:\n",
            "Original immutable argument: 10\n",
            "Original mutable argument: [1, 2, 3, 4]\n"
          ]
        }
      ]
    },
    {
      "cell_type": "markdown",
      "source": [
        "Immutable Argument:                                                                       \n",
        "\n",
        "immutable_arg = 100: Inside the function, we change the value of immutable_arg. This doesn't affect the original variable immutable outside the function. The value of immutable remains 10 after the function call because integers are immutable.                                                                     \n",
        "\n",
        "Mutable Argument:                                                              \n",
        "mutable_arg.append(4): Inside the function, we modify the list mutable_arg by appending 4. Since lists are mutable, this modification affects the original list mutable outside the function. The list now contains [1, 2, 3, 4] after the function call.\n",
        "\n"
      ],
      "metadata": {
        "id": "F0BHWyKdtsO6"
      }
    },
    {
      "cell_type": "markdown",
      "source": [
        "7.  Write a function to demonstrate the behavior of mutable and immutable arguments?"
      ],
      "metadata": {
        "id": "d5JFtFw6uDO_"
      }
    },
    {
      "cell_type": "code",
      "source": [
        "# Function to demonstrate mutable and immutable argument behavior\n",
        "def demonstrate_mutability(immutable_arg, mutable_arg):\n",
        "    print(\"Before modification:\")\n",
        "    print(f\"Immutable argument: {immutable_arg}\")\n",
        "    print(f\"Mutable argument: {mutable_arg}\")\n",
        "\n",
        "    # Modify the immutable argument (this won't change the original outside the function)\n",
        "    immutable_arg = 100\n",
        "\n",
        "    # Modify the mutable argument (this will change the original outside the function)\n",
        "    mutable_arg.append(4)\n",
        "\n",
        "    print(\"\\nAfter modification:\")\n",
        "    print(f\"Immutable argument: {immutable_arg}\")\n",
        "    print(f\"Mutable argument: {mutable_arg}\")\n",
        "\n",
        "# Example usage:\n",
        "immutable = 10  # Immutable argument (int)\n",
        "mutable = [1, 2, 3]  # Mutable argument (list)\n",
        "\n",
        "# Call the function\n",
        "demonstrate_mutability(immutable, mutable)\n",
        "\n",
        "# Check the values after function call\n",
        "print(\"\\nAfter the function call:\")\n",
        "print(f\"Original immutable argument: {immutable}\")\n",
        "print(f\"Original mutable argument: {mutable}\")\n"
      ],
      "metadata": {
        "colab": {
          "base_uri": "https://localhost:8080/"
        },
        "id": "J4KQfTxPuH8c",
        "outputId": "39b8d69e-2150-4659-9095-9ccb7936eb7a"
      },
      "execution_count": 11,
      "outputs": [
        {
          "output_type": "stream",
          "name": "stdout",
          "text": [
            "Before modification:\n",
            "Immutable argument: 10\n",
            "Mutable argument: [1, 2, 3]\n",
            "\n",
            "After modification:\n",
            "Immutable argument: 100\n",
            "Mutable argument: [1, 2, 3, 4]\n",
            "\n",
            "After the function call:\n",
            "Original immutable argument: 10\n",
            "Original mutable argument: [1, 2, 3, 4]\n"
          ]
        }
      ]
    },
    {
      "cell_type": "markdown",
      "source": [
        "Immutable Argument:\n",
        "\n",
        "immutable_arg = 100: Inside the function, we change the value of immutable_arg. This doesn't affect the original variable immutable outside the function. The value of immutable remains 10 after the function call because integers are immutable.\n",
        "\n",
        "Mutable Argument:\n",
        "mutable_arg.append(4): Inside the function, we modify the list mutable_arg by appending 4. Since lists are mutable, this modification affects the original list mutable outside the function. The list now contains [1, 2, 3, 4] after the function call."
      ],
      "metadata": {
        "id": "sLi93yiquaXg"
      }
    },
    {
      "cell_type": "markdown",
      "source": [
        "8. Write a program to demonstrate the use of logical operators?"
      ],
      "metadata": {
        "id": "EGt8C3bbugQN"
      }
    },
    {
      "cell_type": "code",
      "source": [
        "# Demonstrating the use of logical operators\n",
        "\n",
        "# Variables\n",
        "x = 11\n",
        "y = 7\n",
        "z = 21\n",
        "\n",
        "# Using the 'and' logical operator\n",
        "print(\"Using 'and' operator:\")\n",
        "if x > y and z > x:\n",
        "    print(f\"Both conditions are True: {x} > {y} and {z} > {x}\")\n",
        "else:\n",
        "    print(\"At least one condition is False.\")\n",
        "\n",
        "# Using the 'or' logical operator\n",
        "print(\"\\nUsing 'or' operator:\")\n",
        "if x > y or z < x:\n",
        "    print(f\"At least one condition is True: {x} > {y} or {z} < {x}\")\n",
        "else:\n",
        "    print(\"Both conditions are False.\")\n",
        "\n",
        "# Using the 'not' logical operator\n",
        "print(\"\\nUsing 'not' operator:\")\n",
        "if not(x < y):\n",
        "    print(f\"Condition is reversed: {x} < {y} is False, so not(x < y) is True.\")\n",
        "else:\n",
        "    print(f\"{x} < {y} is True, so not(x < y) is False.\")\n"
      ],
      "metadata": {
        "colab": {
          "base_uri": "https://localhost:8080/"
        },
        "id": "sCobarvIulyq",
        "outputId": "19f17272-24df-4504-ac47-ab6337f5eb48"
      },
      "execution_count": 12,
      "outputs": [
        {
          "output_type": "stream",
          "name": "stdout",
          "text": [
            "Using 'and' operator:\n",
            "Both conditions are True: 11 > 7 and 21 > 11\n",
            "\n",
            "Using 'or' operator:\n",
            "At least one condition is True: 11 > 7 or 21 < 11\n",
            "\n",
            "Using 'not' operator:\n",
            "Condition is reversed: 11 < 7 is False, so not(x < y) is True.\n"
          ]
        }
      ]
    },
    {
      "cell_type": "markdown",
      "source": [
        "9.  Write a Python program to convert user input from string to integer, float, and boolean types?"
      ],
      "metadata": {
        "id": "UFhE3GkovePv"
      }
    },
    {
      "cell_type": "code",
      "source": [
        "# Get user input as a string\n",
        "user_input = input(\"Enter a value: \")\n",
        "\n",
        "# Convert to integer\n",
        "try:\n",
        "    user_input_int = int(user_input)\n",
        "    print(f\"Converted to integer: {user_input_int}\")\n",
        "except ValueError:\n",
        "    print(\"Invalid input for integer conversion.\")\n",
        "\n",
        "# Convert to float\n",
        "try:\n",
        "    user_input_float = float(user_input)\n",
        "    print(f\"Converted to float: {user_input_float}\")\n",
        "except ValueError:\n",
        "    print(\"Invalid input for float conversion.\")\n",
        "\n",
        "# Convert to boolean\n",
        "# An empty string becomes False, any other input becomes True\n",
        "user_input_bool = bool(user_input)\n",
        "print(f\"Converted to boolean: {user_input_bool}\")\n"
      ],
      "metadata": {
        "colab": {
          "base_uri": "https://localhost:8080/"
        },
        "id": "nw36g7wiviuD",
        "outputId": "c49eefe7-7dcd-43a8-c79f-a2899feef8d2"
      },
      "execution_count": 15,
      "outputs": [
        {
          "output_type": "stream",
          "name": "stdout",
          "text": [
            "Enter a value: 11\n",
            "Converted to integer: 11\n",
            "Converted to float: 11.0\n",
            "Converted to boolean: True\n"
          ]
        }
      ]
    },
    {
      "cell_type": "markdown",
      "source": [
        "int() converts strings containing numeric characters to integers.\n",
        "\n",
        "float() converts strings containing numeric characters to floating-point numbers.\n",
        "\n",
        "bool() converts strings to True if the string is non-empty, and False if the string is empty."
      ],
      "metadata": {
        "id": "CIWKK9kMwxl2"
      }
    },
    {
      "cell_type": "markdown",
      "source": [
        "10. Write code to demonstrate type casting with list elements?"
      ],
      "metadata": {
        "id": "TEjRdm7VxGK2"
      }
    },
    {
      "cell_type": "code",
      "source": [
        "# Original list with string elements\n",
        "my_list = ['10', '20.5', 'True', '30']\n",
        "\n",
        "print(\"Original list:\", my_list)\n",
        "\n",
        "# Type casting to integer\n",
        "int_list = [int(x) if x.isdigit() else x for x in my_list]\n",
        "print(\"\\nList with integers (converted numeric strings):\", int_list)\n",
        "\n",
        "# Type casting to float\n",
        "float_list = [float(x) if '.' in x else x for x in my_list]\n",
        "print(\"\\nList with floats (converted numeric strings):\", float_list)\n",
        "\n",
        "# Type casting to boolean\n",
        "bool_list = [x.lower() == 'true' if isinstance(x, str) else x for x in my_list]\n",
        "print(\"\\nList with booleans (converted 'True'/'False' strings):\", bool_list)\n"
      ],
      "metadata": {
        "colab": {
          "base_uri": "https://localhost:8080/"
        },
        "id": "5uZxnbCmxJ8s",
        "outputId": "cc7a60f0-2b87-4dc7-cc02-8e9b16afaef1"
      },
      "execution_count": 16,
      "outputs": [
        {
          "output_type": "stream",
          "name": "stdout",
          "text": [
            "Original list: ['10', '20.5', 'True', '30']\n",
            "\n",
            "List with integers (converted numeric strings): [10, '20.5', 'True', 30]\n",
            "\n",
            "List with floats (converted numeric strings): ['10', 20.5, 'True', '30']\n",
            "\n",
            "List with booleans (converted 'True'/'False' strings): [False, False, True, False]\n"
          ]
        }
      ]
    },
    {
      "cell_type": "markdown",
      "source": [
        "11. Write a program that checks if a number is positive, negative, or zero ?"
      ],
      "metadata": {
        "id": "jMSSMyPBx9C3"
      }
    },
    {
      "cell_type": "code",
      "source": [
        "# Taking input from the user\n",
        "num = float(input(\"Enter a number: \"))\n",
        "\n",
        "# Checking if the number is positive, negative, or zero\n",
        "if num > 0:\n",
        "    print(f\"{num} is positive.\")\n",
        "elif num < 0:\n",
        "    print(f\"{num} is negative.\")\n",
        "else:\n",
        "    print(f\"{num} is zero.\")\n"
      ],
      "metadata": {
        "colab": {
          "base_uri": "https://localhost:8080/"
        },
        "id": "48xd_-8nyDto",
        "outputId": "7032886b-5828-495a-facf-d1d86ab7ef35"
      },
      "execution_count": 3,
      "outputs": [
        {
          "output_type": "stream",
          "name": "stdout",
          "text": [
            "Enter a number: 3\n",
            "3.0 is positive.\n"
          ]
        }
      ]
    },
    {
      "cell_type": "code",
      "source": [
        "# Taking input from the user\n",
        "num = float(input(\"Enter a number: \"))\n",
        "\n",
        "# Checking if the number is positive, negative, or zero\n",
        "if num > 0:\n",
        "    print(f\"{num} is positive.\")\n",
        "elif num < 0:\n",
        "    print(f\"{num} is negative.\")\n",
        "else:\n",
        "    print(f\"{num} is zero.\")\n"
      ],
      "metadata": {
        "colab": {
          "base_uri": "https://localhost:8080/"
        },
        "id": "lhMLmz57N4R5",
        "outputId": "174da7ba-4cde-4b1a-ea30-44ef91c00213"
      },
      "execution_count": 4,
      "outputs": [
        {
          "output_type": "stream",
          "name": "stdout",
          "text": [
            "Enter a number: -3\n",
            "-3.0 is negative.\n"
          ]
        }
      ]
    },
    {
      "cell_type": "code",
      "source": [
        "# Taking input from the user\n",
        "num = float(input(\"Enter a number: \"))\n",
        "\n",
        "# Checking if the number is positive, negative, or zero\n",
        "if num > 0:\n",
        "    print(f\"{num} is positive.\")\n",
        "elif num < 0:\n",
        "    print(f\"{num} is negative.\")\n",
        "else:\n",
        "    print(f\"{num} is zero.\")\n"
      ],
      "metadata": {
        "colab": {
          "base_uri": "https://localhost:8080/"
        },
        "id": "djGqUJRjOnvR",
        "outputId": "2abffe6b-9856-45f5-af69-5fd6924241f0"
      },
      "execution_count": 5,
      "outputs": [
        {
          "output_type": "stream",
          "name": "stdout",
          "text": [
            "Enter a number: 0\n",
            "0.0 is zero.\n"
          ]
        }
      ]
    },
    {
      "cell_type": "markdown",
      "source": [
        "12.  Write a for loop to print numbers from 1 to 10 ?"
      ],
      "metadata": {
        "id": "S9RNXTiFOugx"
      }
    },
    {
      "cell_type": "code",
      "source": [
        "# For loop to print numbers from 1 to 10\n",
        "for i in range(1, 11):\n",
        "    print(i)\n"
      ],
      "metadata": {
        "colab": {
          "base_uri": "https://localhost:8080/"
        },
        "id": "-oolY7FKO0__",
        "outputId": "63d1a0d8-0a7b-4728-a44e-8028fba772bb"
      },
      "execution_count": 6,
      "outputs": [
        {
          "output_type": "stream",
          "name": "stdout",
          "text": [
            "1\n",
            "2\n",
            "3\n",
            "4\n",
            "5\n",
            "6\n",
            "7\n",
            "8\n",
            "9\n",
            "10\n"
          ]
        }
      ]
    },
    {
      "cell_type": "markdown",
      "source": [
        "13.  Write a Python program to find the sum of all even numbers between 1 and 50 ?\n"
      ],
      "metadata": {
        "id": "ZIGRspQ3Pmr1"
      }
    },
    {
      "cell_type": "code",
      "source": [
        "# Using the range function with step value 2 to directly get even numbers\n",
        "sum_even_numbers = sum(range(2, 51, 2))\n",
        "\n",
        "# Output the result\n",
        "print(\"Sum of all even numbers between 1 and 50:\", sum_even_numbers)\n"
      ],
      "metadata": {
        "colab": {
          "base_uri": "https://localhost:8080/"
        },
        "id": "gLBcwb51PkyI",
        "outputId": "f9c550a7-1c63-416f-f936-ffea3bd8df83"
      },
      "execution_count": 7,
      "outputs": [
        {
          "output_type": "stream",
          "name": "stdout",
          "text": [
            "Sum of all even numbers between 1 and 50: 650\n"
          ]
        }
      ]
    },
    {
      "cell_type": "markdown",
      "source": [
        "14. Write a program to reverse a string using a while loop ?\n"
      ],
      "metadata": {
        "id": "9E9JWMt8QSXd"
      }
    },
    {
      "cell_type": "code",
      "source": [
        "# Input string\n",
        "string = input(\"Enter a string: \")\n",
        "\n",
        "# Reverse the string using slicing\n",
        "reversed_string = string[::-1]\n",
        "\n",
        "# Output the reversed string\n",
        "print(\"Reversed string:\", reversed_string)\n",
        "\n"
      ],
      "metadata": {
        "colab": {
          "base_uri": "https://localhost:8080/"
        },
        "id": "FyrK4eGjQbpd",
        "outputId": "715422e5-5fcb-4a96-cc03-006b0b4c70e1"
      },
      "execution_count": 8,
      "outputs": [
        {
          "output_type": "stream",
          "name": "stdout",
          "text": [
            "Enter a string: \"roshan\"\n",
            "Reversed string: \"nahsor\"\n"
          ]
        }
      ]
    },
    {
      "cell_type": "markdown",
      "source": [
        "15.  Write a Python program to calculate the factorial of a number provided by the user using a while loop ?\n"
      ],
      "metadata": {
        "id": "03pzmKAuQ8Eb"
      }
    },
    {
      "cell_type": "code",
      "source": [
        "# Input number from the user\n",
        "num = int(input(\"Enter a number: \"))\n",
        "\n",
        "# Initialize factorial result\n",
        "factorial = 1\n",
        "\n",
        "# Use for loop to calculate the factorial\n",
        "for i in range(1, num + 1):\n",
        "    factorial *= i  # Multiply factorial by the current number\n",
        "\n",
        "# Output the result\n",
        "print(f\"Factorial is: {factorial}\")\n"
      ],
      "metadata": {
        "colab": {
          "base_uri": "https://localhost:8080/"
        },
        "id": "q45xl6e_Q_xx",
        "outputId": "056524af-353a-4346-e317-6199c70ef044"
      },
      "execution_count": 9,
      "outputs": [
        {
          "output_type": "stream",
          "name": "stdout",
          "text": [
            "Enter a number: 3\n",
            "Factorial is: 6\n"
          ]
        }
      ]
    },
    {
      "cell_type": "code",
      "source": [],
      "metadata": {
        "id": "G_HR9lA7RMLk"
      },
      "execution_count": null,
      "outputs": []
    }
  ]
}